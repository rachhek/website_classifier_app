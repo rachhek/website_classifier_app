{
 "cells": [
  {
   "cell_type": "markdown",
   "metadata": {},
   "source": [
    "# DMoz dataset exploration"
   ]
  },
  {
   "cell_type": "code",
   "execution_count": 3,
   "metadata": {},
   "outputs": [],
   "source": [
    "import pandas as pd\n",
    "import os"
   ]
  },
  {
   "cell_type": "code",
   "execution_count": 5,
   "metadata": {},
   "outputs": [
    {
     "data": {
      "text/plain": [
       "['Arts.csv',\n",
       " 'business.csv',\n",
       " 'computers.csv',\n",
       " 'games.csv',\n",
       " 'health.csv',\n",
       " 'home.csv',\n",
       " 'news.csv',\n",
       " 'reference.csv',\n",
       " 'science.csv',\n",
       " 'shopping.csv',\n",
       " 'society.csv']"
      ]
     },
     "execution_count": 5,
     "metadata": {},
     "output_type": "execute_result"
    }
   ],
   "source": [
    "\n",
    "data_directory = \"data/\"\n",
    "files = os.listdir(data_directory)\n",
    "files"
   ]
  },
  {
   "cell_type": "markdown",
   "metadata": {},
   "source": [
    "Every file is a category and it contains list of websites. Let's loop through all of them and combine them into a single dataframe and check out the contents"
   ]
  },
  {
   "cell_type": "code",
   "execution_count": 6,
   "metadata": {},
   "outputs": [],
   "source": [
    "#looping through all of them \n",
    "df_list = []\n",
    "for file in files:\n",
    "    df_list.append(pd.read_csv(data_directory+file))\n",
    "websites_df = pd.concat(df_list,sort=False)"
   ]
  },
  {
   "cell_type": "code",
   "execution_count": 7,
   "metadata": {},
   "outputs": [
    {
     "data": {
      "text/plain": [
       "(825848, 7)"
      ]
     },
     "execution_count": 7,
     "metadata": {},
     "output_type": "execute_result"
    }
   ],
   "source": [
    "websites_df.shape"
   ]
  },
  {
   "cell_type": "code",
   "execution_count": 10,
   "metadata": {},
   "outputs": [
    {
     "data": {
      "text/plain": [
       "Index(['Description', 'Title', 'URL', 'Sites', 'CCat', 'MCat', 'SCat'], dtype='object')"
      ]
     },
     "execution_count": 10,
     "metadata": {},
     "output_type": "execute_result"
    }
   ],
   "source": [
    "websites_df.columns"
   ]
  },
  {
   "cell_type": "code",
   "execution_count": 9,
   "metadata": {},
   "outputs": [
    {
     "data": {
      "text/html": [
       "<div>\n",
       "<style scoped>\n",
       "    .dataframe tbody tr th:only-of-type {\n",
       "        vertical-align: middle;\n",
       "    }\n",
       "\n",
       "    .dataframe tbody tr th {\n",
       "        vertical-align: top;\n",
       "    }\n",
       "\n",
       "    .dataframe thead th {\n",
       "        text-align: right;\n",
       "    }\n",
       "</style>\n",
       "<table border=\"1\" class=\"dataframe\">\n",
       "  <thead>\n",
       "    <tr style=\"text-align: right;\">\n",
       "      <th></th>\n",
       "      <th>Description</th>\n",
       "      <th>Title</th>\n",
       "      <th>URL</th>\n",
       "      <th>Sites</th>\n",
       "      <th>CCat</th>\n",
       "      <th>MCat</th>\n",
       "      <th>SCat</th>\n",
       "    </tr>\n",
       "  </thead>\n",
       "  <tbody>\n",
       "    <tr>\n",
       "      <th>62765</th>\n",
       "      <td>Dedicated to the market for innovation in lang...</td>\n",
       "      <td>Language Technology</td>\n",
       "      <td>http://dmoztools.net/Science/Social_Sciences/L...</td>\n",
       "      <td>http://www.lang-tech.org/</td>\n",
       "      <td>2002</td>\n",
       "      <td>Science</td>\n",
       "      <td>Social Sciences  Linguistics  Conferences</td>\n",
       "    </tr>\n",
       "    <tr>\n",
       "      <th>22902</th>\n",
       "      <td>Suppliers of Sports Banners.</td>\n",
       "      <td>Hernandez Airbrushing</td>\n",
       "      <td>http://dmoztools.net/Arts/Illustration/Airbrush/</td>\n",
       "      <td>http://www.blakbirdz.com/airbrush/index.htm</td>\n",
       "      <td>Airbrush</td>\n",
       "      <td>Arts</td>\n",
       "      <td>Illustration</td>\n",
       "    </tr>\n",
       "    <tr>\n",
       "      <th>10172</th>\n",
       "      <td>Annual conference focused on the Latin America...</td>\n",
       "      <td>Latin American Gaming Exhibition</td>\n",
       "      <td>http://dmoztools.net/Business/Arts_and_Enterta...</td>\n",
       "      <td>http://expoazar.com/</td>\n",
       "      <td>Conferences</td>\n",
       "      <td>Business</td>\n",
       "      <td>Arts and Entertainment  Gaming</td>\n",
       "    </tr>\n",
       "  </tbody>\n",
       "</table>\n",
       "</div>"
      ],
      "text/plain": [
       "                                             Description  \\\n",
       "62765  Dedicated to the market for innovation in lang...   \n",
       "22902                       Suppliers of Sports Banners.   \n",
       "10172  Annual conference focused on the Latin America...   \n",
       "\n",
       "                                  Title  \\\n",
       "62765               Language Technology   \n",
       "22902             Hernandez Airbrushing   \n",
       "10172  Latin American Gaming Exhibition   \n",
       "\n",
       "                                                     URL  \\\n",
       "62765  http://dmoztools.net/Science/Social_Sciences/L...   \n",
       "22902   http://dmoztools.net/Arts/Illustration/Airbrush/   \n",
       "10172  http://dmoztools.net/Business/Arts_and_Enterta...   \n",
       "\n",
       "                                             Sites         CCat      MCat  \\\n",
       "62765                    http://www.lang-tech.org/         2002   Science   \n",
       "22902  http://www.blakbirdz.com/airbrush/index.htm     Airbrush      Arts   \n",
       "10172                         http://expoazar.com/  Conferences  Business   \n",
       "\n",
       "                                             SCat  \n",
       "62765   Social Sciences  Linguistics  Conferences  \n",
       "22902                                Illustration  \n",
       "10172              Arts and Entertainment  Gaming  "
      ]
     },
     "execution_count": 9,
     "metadata": {},
     "output_type": "execute_result"
    }
   ],
   "source": [
    "websites_df.sample(3)"
   ]
  },
  {
   "cell_type": "code",
   "execution_count": 23,
   "metadata": {},
   "outputs": [
    {
     "data": {
      "text/plain": [
       "(11,\n",
       " array(['Arts', 'Business', 'Computers', 'Games', 'Health', 'Home', 'News',\n",
       "        'Reference', 'Science', 'Shopping', 'Society'], dtype=object))"
      ]
     },
     "execution_count": 23,
     "metadata": {},
     "output_type": "execute_result"
    }
   ],
   "source": [
    "len(websites_df[\"MCat\"].unique()), websites_df[\"MCat\"].unique()"
   ]
  },
  {
   "cell_type": "markdown",
   "metadata": {},
   "source": [
    "There are 11 different Main categories"
   ]
  },
  {
   "cell_type": "code",
   "execution_count": 21,
   "metadata": {},
   "outputs": [
    {
     "data": {
      "text/plain": [
       "(22989,\n",
       " array([' Animation  Anime', ' Animation  Anime  Collectibles',\n",
       "        ' Animation  Anime  Collectibles  Models and Figures', ...,\n",
       "        ' Work  Work and Family', ' Work  Workplace Discrimination',\n",
       "        ' Work  Workplace Spirituality'], dtype=object))"
      ]
     },
     "execution_count": 21,
     "metadata": {},
     "output_type": "execute_result"
    }
   ],
   "source": [
    "len(websites_df[\"SCat\"].unique()), websites_df[\"SCat\"].unique()"
   ]
  },
  {
   "cell_type": "markdown",
   "metadata": {},
   "source": [
    "There are 22989 sub cateogries"
   ]
  },
  {
   "cell_type": "code",
   "execution_count": 22,
   "metadata": {},
   "outputs": [
    {
     "data": {
      "text/plain": [
       "(63533,\n",
       " array(['Characters', 'Clubs and Organizations', 'Collectibles', ...,\n",
       "        'Age Discrimination', 'Workplace Spirituality',\n",
       "        'Workweek Reduction'], dtype=object))"
      ]
     },
     "execution_count": 22,
     "metadata": {},
     "output_type": "execute_result"
    }
   ],
   "source": [
    "len(websites_df[\"CCat\"].unique()), websites_df[\"CCat\"].unique()"
   ]
  },
  {
   "cell_type": "markdown",
   "metadata": {},
   "source": [
    "There are 63533 C Categories"
   ]
  },
  {
   "cell_type": "code",
   "execution_count": 29,
   "metadata": {},
   "outputs": [
    {
     "data": {
      "text/plain": [
       "<matplotlib.axes._subplots.AxesSubplot at 0x23008a813c8>"
      ]
     },
     "execution_count": 29,
     "metadata": {},
     "output_type": "execute_result"
    },
    {
     "data": {
      "image/png": "[encoded data removed]",
      "text/plain": [
       "<Figure size 432x288 with 1 Axes>"
      ]
     },
     "metadata": {
      "needs_background": "light"
     },
     "output_type": "display_data"
    }
   ],
   "source": [
    "import matplotlib.pyplot as plt\n",
    "websites_df.groupby([\"MCat\"]).size().plot.barh()"
   ]
  },
  {
   "cell_type": "code",
   "execution_count": 39,
   "metadata": {},
   "outputs": [
    {
     "data": {
      "text/html": [
       "<div>\n",
       "<style scoped>\n",
       "    .dataframe tbody tr th:only-of-type {\n",
       "        vertical-align: middle;\n",
       "    }\n",
       "\n",
       "    .dataframe tbody tr th {\n",
       "        vertical-align: top;\n",
       "    }\n",
       "\n",
       "    .dataframe thead th {\n",
       "        text-align: right;\n",
       "    }\n",
       "</style>\n",
       "<table border=\"1\" class=\"dataframe\">\n",
       "  <thead>\n",
       "    <tr style=\"text-align: right;\">\n",
       "      <th></th>\n",
       "      <th></th>\n",
       "      <th>0</th>\n",
       "    </tr>\n",
       "    <tr>\n",
       "      <th>MCat</th>\n",
       "      <th>SCat</th>\n",
       "      <th></th>\n",
       "    </tr>\n",
       "  </thead>\n",
       "  <tbody>\n",
       "    <tr>\n",
       "      <th rowspan=\"5\" valign=\"top\">Arts</th>\n",
       "      <th>Animation</th>\n",
       "      <td>157</td>\n",
       "    </tr>\n",
       "    <tr>\n",
       "      <th>Animation  Anime</th>\n",
       "      <td>166</td>\n",
       "    </tr>\n",
       "    <tr>\n",
       "      <th>Animation  Anime  Collectibles</th>\n",
       "      <td>17</td>\n",
       "    </tr>\n",
       "    <tr>\n",
       "      <th>Animation  Anime  Collectibles  Models and Figures</th>\n",
       "      <td>8</td>\n",
       "    </tr>\n",
       "    <tr>\n",
       "      <th>Animation  Anime  Collectibles  Models and Figures  Action Figures</th>\n",
       "      <td>3</td>\n",
       "    </tr>\n",
       "    <tr>\n",
       "      <th>...</th>\n",
       "      <th>...</th>\n",
       "      <td>...</td>\n",
       "    </tr>\n",
       "    <tr>\n",
       "      <th rowspan=\"5\" valign=\"top\">Society</th>\n",
       "      <th>Work  Unemployment</th>\n",
       "      <td>2</td>\n",
       "    </tr>\n",
       "    <tr>\n",
       "      <th>Work  Work and Family</th>\n",
       "      <td>8</td>\n",
       "    </tr>\n",
       "    <tr>\n",
       "      <th>Work  Workaholism</th>\n",
       "      <td>1</td>\n",
       "    </tr>\n",
       "    <tr>\n",
       "      <th>Work  Workplace Discrimination</th>\n",
       "      <td>23</td>\n",
       "    </tr>\n",
       "    <tr>\n",
       "      <th>Work  Workplace Spirituality</th>\n",
       "      <td>8</td>\n",
       "    </tr>\n",
       "  </tbody>\n",
       "</table>\n",
       "<p>23049 rows × 1 columns</p>\n",
       "</div>"
      ],
      "text/plain": [
       "                                                              0\n",
       "MCat    SCat                                                   \n",
       "Arts     Animation                                          157\n",
       "         Animation  Anime                                   166\n",
       "         Animation  Anime  Collectibles                      17\n",
       "         Animation  Anime  Collectibles  Models and Fig...    8\n",
       "         Animation  Anime  Collectibles  Models and Fig...    3\n",
       "...                                                         ...\n",
       "Society  Work  Unemployment                                   2\n",
       "         Work  Work and Family                                8\n",
       "         Work  Workaholism                                    1\n",
       "         Work  Workplace Discrimination                      23\n",
       "         Work  Workplace Spirituality                         8\n",
       "\n",
       "[23049 rows x 1 columns]"
      ]
     },
     "execution_count": 39,
     "metadata": {},
     "output_type": "execute_result"
    }
   ],
   "source": [
    "pd.DataFrame(websites_df.groupby([\"MCat\",\"SCat\"]).size())"
   ]
  },
  {
   "cell_type": "code",
   "execution_count": 40,
   "metadata": {},
   "outputs": [
    {
     "data": {
      "text/html": [
       "<div>\n",
       "<style scoped>\n",
       "    .dataframe tbody tr th:only-of-type {\n",
       "        vertical-align: middle;\n",
       "    }\n",
       "\n",
       "    .dataframe tbody tr th {\n",
       "        vertical-align: top;\n",
       "    }\n",
       "\n",
       "    .dataframe thead th {\n",
       "        text-align: right;\n",
       "    }\n",
       "</style>\n",
       "<table border=\"1\" class=\"dataframe\">\n",
       "  <thead>\n",
       "    <tr style=\"text-align: right;\">\n",
       "      <th></th>\n",
       "      <th></th>\n",
       "      <th>0</th>\n",
       "    </tr>\n",
       "    <tr>\n",
       "      <th>SCat</th>\n",
       "      <th>CCat</th>\n",
       "      <th></th>\n",
       "    </tr>\n",
       "  </thead>\n",
       "  <tbody>\n",
       "    <tr>\n",
       "      <th rowspan=\"5\" valign=\"top\">Accounting</th>\n",
       "      <th>Associations</th>\n",
       "      <td>93</td>\n",
       "    </tr>\n",
       "    <tr>\n",
       "      <th>Business-to-Business</th>\n",
       "      <td>21</td>\n",
       "    </tr>\n",
       "    <tr>\n",
       "      <th>CPE For CPAs</th>\n",
       "      <td>45</td>\n",
       "    </tr>\n",
       "    <tr>\n",
       "      <th>Education and Training</th>\n",
       "      <td>30</td>\n",
       "    </tr>\n",
       "    <tr>\n",
       "      <th>Employment</th>\n",
       "      <td>3</td>\n",
       "    </tr>\n",
       "    <tr>\n",
       "      <th>...</th>\n",
       "      <th>...</th>\n",
       "      <td>...</td>\n",
       "    </tr>\n",
       "    <tr>\n",
       "      <th rowspan=\"3\" valign=\"top\">Yard, Deck, and Table Games</th>\n",
       "      <th>Table Hockey</th>\n",
       "      <td>5</td>\n",
       "    </tr>\n",
       "    <tr>\n",
       "      <th>Table Soccer</th>\n",
       "      <td>1</td>\n",
       "    </tr>\n",
       "    <tr>\n",
       "      <th>Washer Pitching</th>\n",
       "      <td>1</td>\n",
       "    </tr>\n",
       "    <tr>\n",
       "      <th rowspan=\"2\" valign=\"top\">Yard, Deck, and Table Games  Table Soccer</th>\n",
       "      <th>Foosball</th>\n",
       "      <td>23</td>\n",
       "    </tr>\n",
       "    <tr>\n",
       "      <th>Subbuteo</th>\n",
       "      <td>3</td>\n",
       "    </tr>\n",
       "  </tbody>\n",
       "</table>\n",
       "<p>112025 rows × 1 columns</p>\n",
       "</div>"
      ],
      "text/plain": [
       "                                                                    0\n",
       "SCat                                       CCat                      \n",
       " Accounting                                Associations            93\n",
       "                                           Business-to-Business    21\n",
       "                                           CPE For CPAs            45\n",
       "                                           Education and Training  30\n",
       "                                           Employment               3\n",
       "...                                                                ..\n",
       " Yard, Deck, and Table Games               Table Hockey             5\n",
       "                                           Table Soccer             1\n",
       "                                           Washer Pitching          1\n",
       " Yard, Deck, and Table Games  Table Soccer Foosball                23\n",
       "                                           Subbuteo                 3\n",
       "\n",
       "[112025 rows x 1 columns]"
      ]
     },
     "execution_count": 40,
     "metadata": {},
     "output_type": "execute_result"
    }
   ],
   "source": [
    "pd.DataFrame(websites_df.groupby([\"SCat\",\"CCat\"]).size())"
   ]
  }
 ],
 "metadata": {
  "kernelspec": {
   "display_name": "Python 3",
   "language": "python",
   "name": "python3"
  },
  "language_info": {
   "codemirror_mode": {
    "name": "ipython",
    "version": 3
   },
   "file_extension": ".py",
   "mimetype": "text/x-python",
   "name": "python",
   "nbconvert_exporter": "python",
   "pygments_lexer": "ipython3",
   "version": "3.7.6"
  }
 },
 "nbformat": 4,
 "nbformat_minor": 4
}
