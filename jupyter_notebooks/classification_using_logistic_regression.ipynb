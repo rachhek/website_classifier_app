{
 "cells": [
  {
   "cell_type": "markdown",
   "metadata": {},
   "source": [
    "# Training a logistic Regression model\n",
    "In this notebook, I will train a logistic regression model and do grid search to tune the parameters. "
   ]
  },
  {
   "cell_type": "code",
   "execution_count": 27,
   "metadata": {},
   "outputs": [],
   "source": [
    "import pandas as pd\n",
    "import numpy as np\n",
    "from sklearn.model_selection import train_test_split\n",
    "from sklearn.feature_extraction.text import CountVectorizer, TfidfVectorizer\n",
    "from sklearn.metrics import accuracy_score, confusion_matrix"
   ]
  },
  {
   "cell_type": "markdown",
   "metadata": {},
   "source": [
    "Reading the scraped text from the pickle file"
   ]
  },
  {
   "cell_type": "code",
   "execution_count": 28,
   "metadata": {},
   "outputs": [],
   "source": [
    "df = pd.read_pickle(\"./pkl_files/dmoz_subset_51788_sites_scraped_cleaned_w_lang.pkl\")"
   ]
  },
  {
   "cell_type": "code",
   "execution_count": 29,
   "metadata": {},
   "outputs": [
    {
     "data": {
      "text/html": [
       "<div>\n",
       "<style scoped>\n",
       "    .dataframe tbody tr th:only-of-type {\n",
       "        vertical-align: middle;\n",
       "    }\n",
       "\n",
       "    .dataframe tbody tr th {\n",
       "        vertical-align: top;\n",
       "    }\n",
       "\n",
       "    .dataframe thead th {\n",
       "        text-align: right;\n",
       "    }\n",
       "</style>\n",
       "<table border=\"1\" class=\"dataframe\">\n",
       "  <thead>\n",
       "    <tr style=\"text-align: right;\">\n",
       "      <th></th>\n",
       "      <th>website_url</th>\n",
       "      <th>MCat</th>\n",
       "      <th>cleaned_website_text</th>\n",
       "      <th>lang</th>\n",
       "    </tr>\n",
       "  </thead>\n",
       "  <tbody>\n",
       "    <tr>\n",
       "      <th>0</th>\n",
       "      <td>http://www.ign.com/movies/role-models/theater-...</td>\n",
       "      <td>Arts</td>\n",
       "      <td>ign role models photo video feature message bo...</td>\n",
       "      <td>en</td>\n",
       "    </tr>\n",
       "    <tr>\n",
       "      <th>1</th>\n",
       "      <td>http://www.all-reviews.com/videos/blairwitchpr...</td>\n",
       "      <td>Arts</td>\n",
       "      <td>blair witch project review film movie video re...</td>\n",
       "      <td>en</td>\n",
       "    </tr>\n",
       "    <tr>\n",
       "      <th>2</th>\n",
       "      <td>http://www.ucalgary.ca/UofC/eduweb/engl403/wif...</td>\n",
       "      <td>Arts</td>\n",
       "      <td>wife lament old english text word hot link glo...</td>\n",
       "      <td>en</td>\n",
       "    </tr>\n",
       "    <tr>\n",
       "      <th>3</th>\n",
       "      <td>http://www.codetrip.net/</td>\n",
       "      <td>Arts</td>\n",
       "      <td>franklin martin official site ambient percussi...</td>\n",
       "      <td>en</td>\n",
       "    </tr>\n",
       "    <tr>\n",
       "      <th>4</th>\n",
       "      <td>http://www.picklehead.com/ian/ian_irving.html</td>\n",
       "      <td>Arts</td>\n",
       "      <td>irving berlin hollywood ian whitcomb liner not...</td>\n",
       "      <td>en</td>\n",
       "    </tr>\n",
       "  </tbody>\n",
       "</table>\n",
       "</div>"
      ],
      "text/plain": [
       "                                         website_url  MCat  \\\n",
       "0  http://www.ign.com/movies/role-models/theater-...  Arts   \n",
       "1  http://www.all-reviews.com/videos/blairwitchpr...  Arts   \n",
       "2  http://www.ucalgary.ca/UofC/eduweb/engl403/wif...  Arts   \n",
       "3                           http://www.codetrip.net/  Arts   \n",
       "4      http://www.picklehead.com/ian/ian_irving.html  Arts   \n",
       "\n",
       "                                cleaned_website_text lang  \n",
       "0  ign role models photo video feature message bo...   en  \n",
       "1  blair witch project review film movie video re...   en  \n",
       "2  wife lament old english text word hot link glo...   en  \n",
       "3  franklin martin official site ambient percussi...   en  \n",
       "4  irving berlin hollywood ian whitcomb liner not...   en  "
      ]
     },
     "execution_count": 29,
     "metadata": {},
     "output_type": "execute_result"
    }
   ],
   "source": [
    "df.head()"
   ]
  },
  {
   "cell_type": "code",
   "execution_count": 30,
   "metadata": {},
   "outputs": [
    {
     "data": {
      "text/plain": [
       "(49747, 4)"
      ]
     },
     "execution_count": 30,
     "metadata": {},
     "output_type": "execute_result"
    }
   ],
   "source": [
    "#only take the english language entries\n",
    "df = df[df[\"lang\"] == \"en\"]\n",
    "df.shape"
   ]
  },
  {
   "cell_type": "code",
   "execution_count": 31,
   "metadata": {},
   "outputs": [
    {
     "data": {
      "text/html": [
       "<div>\n",
       "<style scoped>\n",
       "    .dataframe tbody tr th:only-of-type {\n",
       "        vertical-align: middle;\n",
       "    }\n",
       "\n",
       "    .dataframe tbody tr th {\n",
       "        vertical-align: top;\n",
       "    }\n",
       "\n",
       "    .dataframe thead th {\n",
       "        text-align: right;\n",
       "    }\n",
       "</style>\n",
       "<table border=\"1\" class=\"dataframe\">\n",
       "  <thead>\n",
       "    <tr style=\"text-align: right;\">\n",
       "      <th></th>\n",
       "      <th>website_url</th>\n",
       "      <th>MCat</th>\n",
       "      <th>cleaned_website_text</th>\n",
       "      <th>lang</th>\n",
       "    </tr>\n",
       "  </thead>\n",
       "  <tbody>\n",
       "    <tr>\n",
       "      <th>0</th>\n",
       "      <td>http://www.ign.com/movies/role-models/theater-...</td>\n",
       "      <td>Arts</td>\n",
       "      <td>ign role models photo video feature message bo...</td>\n",
       "      <td>en</td>\n",
       "    </tr>\n",
       "    <tr>\n",
       "      <th>1</th>\n",
       "      <td>http://www.all-reviews.com/videos/blairwitchpr...</td>\n",
       "      <td>Arts</td>\n",
       "      <td>blair witch project review film movie video re...</td>\n",
       "      <td>en</td>\n",
       "    </tr>\n",
       "    <tr>\n",
       "      <th>2</th>\n",
       "      <td>http://www.ucalgary.ca/UofC/eduweb/engl403/wif...</td>\n",
       "      <td>Arts</td>\n",
       "      <td>wife lament old english text word hot link glo...</td>\n",
       "      <td>en</td>\n",
       "    </tr>\n",
       "    <tr>\n",
       "      <th>3</th>\n",
       "      <td>http://www.codetrip.net/</td>\n",
       "      <td>Arts</td>\n",
       "      <td>franklin martin official site ambient percussi...</td>\n",
       "      <td>en</td>\n",
       "    </tr>\n",
       "    <tr>\n",
       "      <th>4</th>\n",
       "      <td>http://www.picklehead.com/ian/ian_irving.html</td>\n",
       "      <td>Arts</td>\n",
       "      <td>irving berlin hollywood ian whitcomb liner not...</td>\n",
       "      <td>en</td>\n",
       "    </tr>\n",
       "  </tbody>\n",
       "</table>\n",
       "</div>"
      ],
      "text/plain": [
       "                                         website_url  MCat  \\\n",
       "0  http://www.ign.com/movies/role-models/theater-...  Arts   \n",
       "1  http://www.all-reviews.com/videos/blairwitchpr...  Arts   \n",
       "2  http://www.ucalgary.ca/UofC/eduweb/engl403/wif...  Arts   \n",
       "3                           http://www.codetrip.net/  Arts   \n",
       "4      http://www.picklehead.com/ian/ian_irving.html  Arts   \n",
       "\n",
       "                                cleaned_website_text lang  \n",
       "0  ign role models photo video feature message bo...   en  \n",
       "1  blair witch project review film movie video re...   en  \n",
       "2  wife lament old english text word hot link glo...   en  \n",
       "3  franklin martin official site ambient percussi...   en  \n",
       "4  irving berlin hollywood ian whitcomb liner not...   en  "
      ]
     },
     "execution_count": 31,
     "metadata": {},
     "output_type": "execute_result"
    }
   ],
   "source": [
    "df.head()"
   ]
  },
  {
   "cell_type": "code",
   "execution_count": 32,
   "metadata": {},
   "outputs": [],
   "source": [
    "df[\"word_count\"] = df.apply(lambda row: len(row[\"cleaned_website_text\"].split(\" \")),axis=1)"
   ]
  },
  {
   "cell_type": "code",
   "execution_count": 164,
   "metadata": {},
   "outputs": [],
   "source": [
    "#lets take the first 300 words from all the rows\n",
    "df[\"text_500_words\"] = df.apply(lambda row: \" \".join(row[\"cleaned_website_text\"].split(\" \")[:500]),axis=1)"
   ]
  },
  {
   "cell_type": "code",
   "execution_count": null,
   "metadata": {},
   "outputs": [],
   "source": [
    "5"
   ]
  },
  {
   "cell_type": "code",
   "execution_count": 165,
   "metadata": {},
   "outputs": [
    {
     "data": {
      "text/plain": [
       "count    49747.000000\n",
       "mean       313.932398\n",
       "std        178.282063\n",
       "min          4.000000\n",
       "25%        149.000000\n",
       "50%        340.000000\n",
       "75%        500.000000\n",
       "max        500.000000\n",
       "Name: word_count, dtype: float64"
      ]
     },
     "execution_count": 165,
     "metadata": {},
     "output_type": "execute_result"
    }
   ],
   "source": [
    "df[\"word_count\"] = df.apply(lambda row: len(row[\"text_500_words\"].split(\" \")),axis=1)\n",
    "df[\"word_count\"].describe()"
   ]
  },
  {
   "cell_type": "code",
   "execution_count": 166,
   "metadata": {},
   "outputs": [
    {
     "data": {
      "text/plain": [
       "15617195"
      ]
     },
     "execution_count": 166,
     "metadata": {},
     "output_type": "execute_result"
    }
   ],
   "source": [
    "df[\"text_500_words\"].apply(lambda x: len(x.split(\" \"))).sum()"
   ]
  },
  {
   "cell_type": "code",
   "execution_count": 167,
   "metadata": {},
   "outputs": [
    {
     "data": {
      "text/plain": [
       "array(['Arts', 'News', 'Reference', 'Society', 'Games', 'Business',\n",
       "       'Shopping', 'Science', 'Computers', 'Health', 'Home'], dtype=object)"
      ]
     },
     "execution_count": 167,
     "metadata": {},
     "output_type": "execute_result"
    }
   ],
   "source": [
    "categories = df[\"MCat\"].unique()\n",
    "categories"
   ]
  },
  {
   "cell_type": "markdown",
   "metadata": {},
   "source": [
    "We have over 19 million words in the dataset"
   ]
  },
  {
   "cell_type": "code",
   "execution_count": 168,
   "metadata": {},
   "outputs": [
    {
     "data": {
      "text/plain": [
       "((34822,), (14925,), (34822,), (14925,))"
      ]
     },
     "execution_count": 168,
     "metadata": {},
     "output_type": "execute_result"
    }
   ],
   "source": [
    "X = df.text_500_words\n",
    "y = df.MCat\n",
    "X_train, X_test, y_train, y_test = train_test_split(X, y, test_size=0.3, random_state = 42)\n",
    "X_train.shape,X_test.shape, y_train.shape, y_test.shape"
   ]
  },
  {
   "cell_type": "markdown",
   "metadata": {},
   "source": [
    "# Using Logistic regression"
   ]
  },
  {
   "cell_type": "code",
   "execution_count": 169,
   "metadata": {},
   "outputs": [],
   "source": [
    "from sklearn.linear_model import LogisticRegression\n",
    "from sklearn.metrics import classification_report"
   ]
  },
  {
   "cell_type": "code",
   "execution_count": 173,
   "metadata": {},
   "outputs": [
    {
     "name": "stderr",
     "output_type": "stream",
     "text": [
      "C:\\Users\\rachh\\anaconda3\\lib\\site-packages\\sklearn\\feature_extraction\\text.py:1817: UserWarning: Only (<class 'numpy.float64'>, <class 'numpy.float32'>, <class 'numpy.float16'>) 'dtype' should be used. float32 'dtype' will be converted to np.float64.\n",
      "  UserWarning)\n"
     ]
    },
    {
     "data": {
      "text/plain": [
       "<49747x59239 sparse matrix of type '<class 'numpy.float32'>'\n",
       "\twith 7974647 stored elements in Compressed Sparse Row format>"
      ]
     },
     "execution_count": 173,
     "metadata": {},
     "output_type": "execute_result"
    }
   ],
   "source": [
    "tfidf_vectorizer=TfidfVectorizer(use_idf=True,min_df = 5, max_df=0.99,dtype='float32')\n",
    "tfidf_vectorizer.fit_transform(df[\"text_500_words\"])"
   ]
  },
  {
   "cell_type": "code",
   "execution_count": 174,
   "metadata": {},
   "outputs": [
    {
     "data": {
      "text/plain": [
       "TfidfVectorizer(analyzer='word', binary=False, decode_error='strict',\n",
       "                dtype='float32', encoding='utf-8', input='content',\n",
       "                lowercase=True, max_df=0.99, max_features=None, min_df=5,\n",
       "                ngram_range=(1, 1), norm='l2', preprocessor=None,\n",
       "                smooth_idf=True, stop_words=None, strip_accents=None,\n",
       "                sublinear_tf=False, token_pattern='(?u)\\\\b\\\\w\\\\w+\\\\b',\n",
       "                tokenizer=None, use_idf=True, vocabulary=None)"
      ]
     },
     "execution_count": 174,
     "metadata": {},
     "output_type": "execute_result"
    }
   ],
   "source": [
    "tfidf_vectorizer"
   ]
  },
  {
   "cell_type": "code",
   "execution_count": 175,
   "metadata": {},
   "outputs": [],
   "source": [
    "import pickle\n",
    "# saving the model\n",
    "pickle.dump(tfidf_vectorizer,open(\"test.pk\",'wb'))"
   ]
  },
  {
   "cell_type": "code",
   "execution_count": 176,
   "metadata": {},
   "outputs": [],
   "source": [
    "X_train = tfidf_vectorizer.transform(X_train)\n",
    "X_test = tfidf_vectorizer.transform(X_test)"
   ]
  },
  {
   "cell_type": "code",
   "execution_count": 177,
   "metadata": {},
   "outputs": [
    {
     "data": {
      "text/plain": [
       "LogisticRegression(C=3.5, class_weight=None, dual=False, fit_intercept=True,\n",
       "                   intercept_scaling=1, l1_ratio=None, max_iter=100,\n",
       "                   multi_class='auto', n_jobs=4, penalty='l2', random_state=0,\n",
       "                   solver='liblinear', tol=0.0001, verbose=1, warm_start=False)"
      ]
     },
     "execution_count": 177,
     "metadata": {},
     "output_type": "execute_result"
    }
   ],
   "source": [
    "logreg = LogisticRegression(verbose=1, \n",
    "                            random_state=0,\n",
    "                            C=3.5,\n",
    "                            solver = 'liblinear',\n",
    "                           n_jobs = 4)\n",
    "logreg"
   ]
  },
  {
   "cell_type": "code",
   "execution_count": 178,
   "metadata": {},
   "outputs": [
    {
     "name": "stderr",
     "output_type": "stream",
     "text": [
      "C:\\Users\\rachh\\anaconda3\\lib\\site-packages\\sklearn\\linear_model\\_logistic.py:1539: UserWarning: 'n_jobs' > 1 does not have any effect when 'solver' is set to 'liblinear'. Got 'n_jobs' = 4.\n",
      "  \" = {}.\".format(effective_n_jobs(self.n_jobs)))\n"
     ]
    },
    {
     "name": "stdout",
     "output_type": "stream",
     "text": [
      "[LibLinear]"
     ]
    },
    {
     "data": {
      "text/plain": [
       "LogisticRegression(C=3.5, class_weight=None, dual=False, fit_intercept=True,\n",
       "                   intercept_scaling=1, l1_ratio=None, max_iter=100,\n",
       "                   multi_class='auto', n_jobs=4, penalty='l2', random_state=0,\n",
       "                   solver='liblinear', tol=0.0001, verbose=1, warm_start=False)"
      ]
     },
     "execution_count": 178,
     "metadata": {},
     "output_type": "execute_result"
    }
   ],
   "source": [
    "logreg.fit(X_train, y_train)"
   ]
  },
  {
   "cell_type": "code",
   "execution_count": 179,
   "metadata": {},
   "outputs": [
    {
     "name": "stdout",
     "output_type": "stream",
     "text": [
      "accuracy 0.7786934673366834\n",
      "              precision    recall  f1-score   support\n",
      "\n",
      "        Arts       0.73      0.79      0.76      1426\n",
      "        News       0.69      0.69      0.69      1329\n",
      "   Reference       0.75      0.83      0.79      1345\n",
      "     Society       0.90      0.90      0.90      1411\n",
      "       Games       0.85      0.86      0.86      1403\n",
      "    Business       0.84      0.79      0.81      1182\n",
      "    Shopping       0.84      0.83      0.83      1513\n",
      "     Science       0.76      0.72      0.74      1361\n",
      "   Computers       0.70      0.69      0.70      1288\n",
      "      Health       0.71      0.75      0.73      1351\n",
      "        Home       0.80      0.70      0.75      1316\n",
      "\n",
      "    accuracy                           0.78     14925\n",
      "   macro avg       0.78      0.78      0.78     14925\n",
      "weighted avg       0.78      0.78      0.78     14925\n",
      "\n"
     ]
    }
   ],
   "source": [
    "y_pred = logreg.predict(X_test)\n",
    "\n",
    "print('accuracy %s' % accuracy_score(y_pred, y_test))\n",
    "print(classification_report(y_test, y_pred,target_names=categories))"
   ]
  },
  {
   "cell_type": "code",
   "execution_count": 180,
   "metadata": {},
   "outputs": [],
   "source": [
    "import pickle\n",
    "pickle.dump(logreg,open(\"logistic_regression_78_acc_3.sav\",'wb'))"
   ]
  },
  {
   "cell_type": "markdown",
   "metadata": {},
   "source": [
    "Accuracy of upto 77.37% was achieved. Let's to grid search to tune the paramters a bit more."
   ]
  },
  {
   "cell_type": "markdown",
   "metadata": {},
   "source": [
    "## Using Grid search to find the best parameter"
   ]
  },
  {
   "cell_type": "code",
   "execution_count": 181,
   "metadata": {},
   "outputs": [
    {
     "name": "stderr",
     "output_type": "stream",
     "text": [
      "C:\\Users\\rachh\\anaconda3\\lib\\site-packages\\sklearn\\linear_model\\_logistic.py:1539: UserWarning: 'n_jobs' > 1 does not have any effect when 'solver' is set to 'liblinear'. Got 'n_jobs' = 4.\n",
      "  \" = {}.\".format(effective_n_jobs(self.n_jobs)))\n"
     ]
    },
    {
     "name": "stdout",
     "output_type": "stream",
     "text": [
      "[LibLinear][LibLinear][LibLinear][LibLinear][LibLinear][LibLinear][LibLinear][LibLinear][LibLinear][LibLinear][LibLinear][LibLinear][LibLinear][LibLinear][LibLinear][LibLinear][LibLinear][LibLinear][LibLinear][LibLinear][LibLinear][LibLinear][LibLinear][LibLinear][LibLinear][LibLinear][LibLinear][LibLinear][LibLinear][LibLinear][LibLinear][LibLinear][LibLinear][LibLinear][LibLinear][LibLinear][LibLinear][LibLinear][LibLinear][LibLinear][LibLinear]"
     ]
    },
    {
     "data": {
      "text/plain": [
       "{'C': 3.5, 'solver': 'liblinear'}"
      ]
     },
     "execution_count": 181,
     "metadata": {},
     "output_type": "execute_result"
    }
   ],
   "source": [
    "# Grid searching\n",
    "from sklearn.model_selection import GridSearchCV\n",
    "parameters = {\"C\":[1,1.5,2.5,3,3.5,4,4.5,5,5.5,6], \"solver\":[\"liblinear\"]}\n",
    "grid_search = GridSearchCV(logreg,parameters,cv=4,return_train_score=True)\n",
    "grid_search.fit(X_train,y_train)\n",
    "grid_search.best_params_"
   ]
  },
  {
   "cell_type": "markdown",
   "metadata": {},
   "source": [
    "The best parameters seem to be C = 5 and solver = liblinear."
   ]
  },
  {
   "cell_type": "code",
   "execution_count": 182,
   "metadata": {},
   "outputs": [
    {
     "data": {
      "text/plain": [
       "LogisticRegression(C=3.5, class_weight=None, dual=False, fit_intercept=True,\n",
       "                   intercept_scaling=1, l1_ratio=None, max_iter=100,\n",
       "                   multi_class='auto', n_jobs=4, penalty='l2', random_state=0,\n",
       "                   solver='liblinear', tol=0.0001, verbose=1, warm_start=False)"
      ]
     },
     "execution_count": 182,
     "metadata": {},
     "output_type": "execute_result"
    }
   ],
   "source": [
    "logreg = LogisticRegression(verbose=1, \n",
    "                            random_state=0,\n",
    "                            C=3.5,\n",
    "                            solver = 'liblinear',\n",
    "                           n_jobs = 4)\n",
    "logreg"
   ]
  },
  {
   "cell_type": "code",
   "execution_count": 183,
   "metadata": {},
   "outputs": [
    {
     "name": "stdout",
     "output_type": "stream",
     "text": [
      "[LibLinear]"
     ]
    },
    {
     "data": {
      "text/plain": [
       "LogisticRegression(C=3.5, class_weight=None, dual=False, fit_intercept=True,\n",
       "                   intercept_scaling=1, l1_ratio=None, max_iter=100,\n",
       "                   multi_class='auto', n_jobs=4, penalty='l2', random_state=0,\n",
       "                   solver='liblinear', tol=0.0001, verbose=1, warm_start=False)"
      ]
     },
     "execution_count": 183,
     "metadata": {},
     "output_type": "execute_result"
    }
   ],
   "source": [
    "logreg.fit(X_train, y_train)"
   ]
  },
  {
   "cell_type": "code",
   "execution_count": 184,
   "metadata": {},
   "outputs": [
    {
     "name": "stdout",
     "output_type": "stream",
     "text": [
      "accuracy 0.7786934673366834\n",
      "              precision    recall  f1-score   support\n",
      "\n",
      "        Arts       0.73      0.79      0.76      1426\n",
      "        News       0.69      0.69      0.69      1329\n",
      "   Reference       0.75      0.83      0.79      1345\n",
      "     Society       0.90      0.90      0.90      1411\n",
      "       Games       0.85      0.86      0.86      1403\n",
      "    Business       0.84      0.79      0.81      1182\n",
      "    Shopping       0.84      0.83      0.83      1513\n",
      "     Science       0.76      0.72      0.74      1361\n",
      "   Computers       0.70      0.69      0.70      1288\n",
      "      Health       0.71      0.75      0.73      1351\n",
      "        Home       0.80      0.70      0.75      1316\n",
      "\n",
      "    accuracy                           0.78     14925\n",
      "   macro avg       0.78      0.78      0.78     14925\n",
      "weighted avg       0.78      0.78      0.78     14925\n",
      "\n"
     ]
    }
   ],
   "source": [
    "y_pred = logreg.predict(X_test)\n",
    "\n",
    "print('accuracy %s' % accuracy_score(y_pred, y_test))\n",
    "print(classification_report(y_test, y_pred,target_names=categories))"
   ]
  },
  {
   "cell_type": "markdown",
   "metadata": {},
   "source": [
    "The accuracy improved upto 77.90 percent"
   ]
  },
  {
   "cell_type": "code",
   "execution_count": 163,
   "metadata": {},
   "outputs": [],
   "source": [
    "import pickle\n",
    "# saving the model\n",
    "pickle.dump(logreg,open(\"logistic_regression_78_acc_2.sav\",'wb'))"
   ]
  },
  {
   "cell_type": "code",
   "execution_count": 21,
   "metadata": {},
   "outputs": [
    {
     "data": {
      "text/plain": [
       "array([[ 0.51178732,  2.78504209,  0.13046777,  0.23238935, 76.59199108,\n",
       "         0.37208455,  3.66235743,  0.43697575,  0.77815319, 10.46796221,\n",
       "         4.03078924]])"
      ]
     },
     "execution_count": 21,
     "metadata": {},
     "output_type": "execute_result"
    }
   ],
   "source": [
    "log_reg_model.predict_proba(vectorized_text)*100"
   ]
  },
  {
   "cell_type": "markdown",
   "metadata": {},
   "source": [
    "## Building a confusion matrix and visualizing it"
   ]
  },
  {
   "cell_type": "code",
   "execution_count": 106,
   "metadata": {},
   "outputs": [
    {
     "data": {
      "image/png": "[encoded data removed]",
      "text/plain": [
       "<Figure size 576x576 with 2 Axes>"
      ]
     },
     "metadata": {
      "needs_background": "light"
     },
     "output_type": "display_data"
    }
   ],
   "source": [
    "from sklearn.metrics import confusion_matrix\n",
    "import matplotlib.pyplot as plt\n",
    "import seaborn as sns\n",
    "cf_matrix = confusion_matrix(y_test, y_pred)\n",
    "fig, ax = plt.subplots(figsize=(8,8))\n",
    "sns.heatmap(cf_matrix, annot=True, cmap=\"Blues\", fmt='d',\n",
    "            xticklabels=log_reg_model.classes_, \n",
    "            yticklabels=log_reg_model.classes_)\n",
    "plt.ylabel('Actual')\n",
    "plt.xlabel('Predicted')\n",
    "plt.title(\"CONFUSION MATRIX - Logistic regression\", size=16);"
   ]
  },
  {
   "cell_type": "markdown",
   "metadata": {},
   "source": [
    "It Seem the high number of incorrect predictions are as follows:\n",
    "- Business websites being predicted as Shopping(161)\n",
    "- Reference websites being predicted as Science(113)\n",
    "- Shopping websites being predicted as Business (99)\n",
    "- Science websites being predicted as Business(80)"
   ]
  }
 ],
 "metadata": {
  "kernelspec": {
   "display_name": "Python 3",
   "language": "python",
   "name": "python3"
  },
  "language_info": {
   "codemirror_mode": {
    "name": "ipython",
    "version": 3
   },
   "file_extension": ".py",
   "mimetype": "text/x-python",
   "name": "python",
   "nbconvert_exporter": "python",
   "pygments_lexer": "ipython3",
   "version": "3.7.6"
  }
 },
 "nbformat": 4,
 "nbformat_minor": 4
}